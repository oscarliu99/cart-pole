{
 "cells": [
  {
   "cell_type": "code",
   "execution_count": 133,
   "metadata": {},
   "outputs": [],
   "source": [
    "import numpy as np\n",
    "import matplotlib.pyplot as plt"
   ]
  },
  {
   "cell_type": "code",
   "execution_count": 134,
   "metadata": {},
   "outputs": [],
   "source": [
    "# define constants\n",
    "d_max = 2\n",
    "u_max = 20\n",
    "t_max = 2\n",
    "N = 30\n",
    "m_1 = 1\n",
    "m_2 = 0.3\n",
    "g = 9.81\n",
    "l = 0.5\n",
    "h_k = t_max/(N-1)\n",
    "d_final = 1"
   ]
  },
  {
   "cell_type": "code",
   "execution_count": 135,
   "metadata": {},
   "outputs": [],
   "source": [
    "# objective function\n",
    "# x = [x0 (q1), x1 (q2), x2 (q1 dot), x3 (q2 dot).....,u0,u1,u2,u3.....]\n",
    "def objective(x):\n",
    "    result = 0\n",
    "    for i in range(N*4,len(x)-1):\n",
    "        result += 0.5*h_k*((x[i]**2)+(x[i+1]**2))\n",
    "    return result"
   ]
  },
  {
   "cell_type": "code",
   "execution_count": 136,
   "metadata": {},
   "outputs": [],
   "source": [
    "# dynamic constraints\n",
    "def constraint1(x):\n",
    "    result = []\n",
    "    for i in range(N-1):\n",
    "        q_1 = x[i*4+0]\n",
    "        q_2 = x[i*4+1]\n",
    "        q_1_dot = x[i*4+2]\n",
    "        q_2_dot = x[i*4+3]\n",
    "        u = x[N*4+i]\n",
    "        q_1_dot_dot = (l*m_2*np.sin(q_2)*(q_2_dot**2)+u+m_2*g*np.cos(q_2)*np.sin(q_2))/(m_1+m_2*(1-(np.cos(q_2)**2)))\n",
    "        q_2_dot_dot =-(l*m_2*np.cos(q_2)*np.sin(q_2)*(q_2_dot**2)+u*np.cos(q_2)+(m_1+m_2)*g*np.sin(q_2))/(l*m_1+l*m_2*(1-(np.cos(q_2))**2))\n",
    "        x_0 = np.array([q_1,q_2,q_1_dot,q_2_dot])\n",
    "        f_0 = np.array([q_1_dot,q_2_dot,q_1_dot_dot,q_2_dot_dot])\n",
    "        \n",
    "        q_1 = x[(i+1)*4+0]\n",
    "        q_2 = x[(i+1)*4+1]\n",
    "        q_1_dot = x[(i+1)*4+2]\n",
    "        q_2_dot = x[(i+1)*4+3]\n",
    "        u = x[N*4+i+1]\n",
    "        q_1_dot_dot = (l*m_2*np.sin(q_2)*(q_2_dot**2)+u+m_2*g*np.cos(q_2)*np.sin(q_2))/(m_1+m_2*(1-(np.cos(q_2)**2)))\n",
    "        q_2_dot_dot =-(l*m_2*np.cos(q_2)*np.sin(q_2)*(q_2_dot**2)+u*np.cos(q_2)+(m_1+m_2)*g*np.sin(q_2))/(l*m_1+l*m_2*(1-(np.cos(q_2))**2))\n",
    "        x_1 = np.array([q_1,q_2,q_1_dot,q_2_dot])\n",
    "        f_1 = np.array([q_1_dot,q_2_dot,q_1_dot_dot,q_2_dot_dot])\n",
    "        result.extend(list(0.5*h_k*(f_1+f_0)-x_1+x_0))\n",
    "    return result\n"
   ]
  },
  {
   "cell_type": "code",
   "execution_count": 137,
   "metadata": {},
   "outputs": [],
   "source": [
    "def constraint2(x):\n",
    "    return [x[0],x[1],x[2],x[3]]\n",
    "def constraint3(x):\n",
    "    return [x[(N-1)*4]-d_final,x[(N-1)*4+1]-np.pi,x[(N-1)*4+2],x[(N-1)*4+3]]"
   ]
  },
  {
   "cell_type": "code",
   "execution_count": 138,
   "metadata": {},
   "outputs": [
    {
     "name": "stdout",
     "output_type": "stream",
     "text": [
      "Initial Objective: 0.0\n",
      "Final Objective: 59.744239381736364\n",
      "[-1.47373558e-21  9.74334597e-22 -1.07675430e-20  9.93543551e-20\n",
      "  1.22122187e-02 -2.38638245e-02  3.54154342e-01 -6.92050912e-01\n",
      "  5.28074317e-02 -1.00927625e-01  8.23106834e-01 -1.54279930e+00\n",
      "  1.28190847e-01 -2.36140104e-01  1.36301221e+00 -2.37836260e+00\n",
      "  2.38559277e-01 -4.16292282e-01  1.83767227e+00 -2.84605056e+00\n",
      "  3.75852903e-01 -6.08446729e-01  2.14384287e+00 -2.72642840e+00\n",
      "  5.27923969e-01 -7.73624858e-01  2.26621804e+00 -2.06373734e+00\n",
      "  6.83561924e-01 -8.80930313e-01  2.24728267e+00 -1.04812086e+00\n",
      "  8.34147008e-01 -9.11327847e-01  2.11968477e+00  1.66592376e-01\n",
      "  9.71759658e-01 -8.52829824e-01  1.87108208e+00  1.52985030e+00\n",
      "  1.08591744e+00 -6.93173455e-01  1.43949348e+00  3.10018438e+00\n",
      "  1.16110993e+00 -4.13728659e-01  7.41088848e-01  5.00371472e+00\n",
      "  1.18125939e+00  1.70787477e-04 -1.56754438e-01  6.99936923e+00\n",
      "  1.14730520e+00  5.15870693e-01 -8.27917153e-01  7.95592803e+00\n",
      "  1.08519894e+00  1.04297537e+00 -9.73164300e-01  7.33010759e+00\n",
      "  1.02409761e+00  1.50262290e+00 -7.98774459e-01  5.99967070e+00\n",
      "  9.77129646e-01  1.87264276e+00 -5.63296390e-01  4.73090522e+00\n",
      "  9.45524009e-01  2.16329690e+00 -3.53267089e-01  3.69806493e+00\n",
      "  9.26926096e-01  2.39036061e+00 -1.86072369e-01  2.88678267e+00\n",
      "  9.18410990e-01  2.56756441e+00 -6.08657104e-02  2.25212748e+00\n",
      "  9.17313655e-01  2.70574403e+00  2.90429819e-02  1.75508152e+00\n",
      "  9.21486990e-01  2.81342186e+00  9.19837300e-02  1.36757568e+00\n",
      "  9.29328843e-01  2.89744396e+00  1.35430022e-01  1.06906526e+00\n",
      "  9.39677235e-01  2.96336523e+00  1.64673340e-01  8.42651355e-01\n",
      "  9.51644413e-01  3.01561679e+00  1.82374823e-01  6.72643905e-01\n",
      "  9.64432427e-01  3.05753366e+00  1.88477599e-01  5.42945253e-01\n",
      "  9.77140727e-01  3.09126626e+00  1.80063086e-01  4.35300306e-01\n",
      "  9.88553324e-01  3.11754241e+00  1.50902216e-01  3.26708122e-01\n",
      "  9.96878424e-01  3.13520043e+00  9.05257000e-02  1.85374421e-01\n",
      "  1.00000000e+00  3.14159265e+00 -3.61074186e-21  2.40105241e-20\n",
      "  4.45509397e+00  5.88829408e+00  8.13893814e+00  8.87020837e+00\n",
      "  7.76090611e+00  5.29721806e+00  2.56186071e+00  2.62311201e-01\n",
      " -1.64594771e+00 -3.68401282e+00 -6.49514931e+00 -1.03640194e+01\n",
      " -1.36812253e+01 -1.21529155e+01 -6.31916667e+00 -1.06094234e+00\n",
      "  1.88799804e+00  2.97600353e+00  3.01000582e+00  2.59368512e+00\n",
      "  2.06668153e+00  1.57830000e+00  1.17031629e+00  8.33364568e-01\n",
      "  5.36897909e-01  2.41741955e-01 -9.70089687e-02 -5.32147105e-01\n",
      " -1.12974407e+00 -1.47673646e+00]\n"
     ]
    }
   ],
   "source": [
    "from scipy.optimize import minimize\n",
    "# initial guesses\n",
    "x0 = []\n",
    "for i in range(N):\n",
    "    x0.extend([i/N*d_final,i/N*np.pi,0,0])\n",
    "x0.extend([0]*N)\n",
    "\n",
    "# show initial objective\n",
    "print('Initial Objective: ' + str(objective(x0)))\n",
    "\n",
    "# optimize\n",
    "d = (-d_max,d_max)\n",
    "u = (-u_max,u_max)\n",
    "none = (None, None)\n",
    "\n",
    "bnds = []\n",
    "for i in range(N):\n",
    "    bnds.extend([d, none,none,none])\n",
    "bnds.extend([u]*N)\n",
    "\n",
    "con1 = {'type': 'eq', 'fun': constraint1}\n",
    "con2 = {'type': 'eq', 'fun': constraint2}\n",
    "con3 = {'type': 'eq', 'fun': constraint3}\n",
    "\n",
    "cons = ([con1,con2,con3])\n",
    "solution = minimize(objective,x0,method='SLSQP',bounds=bnds,constraints=cons)\n",
    "x = solution.x\n",
    "\n",
    "# show final objective\n",
    "print('Final Objective: ' + str(objective(x)))\n",
    "print(x)\n"
   ]
  },
  {
   "cell_type": "code",
   "execution_count": 139,
   "metadata": {},
   "outputs": [
    {
     "data": {
      "text/plain": [
       "Text(0.5, 1.0, 'force')"
      ]
     },
     "execution_count": 139,
     "metadata": {},
     "output_type": "execute_result"
    },
    {
     "data": {
      "image/png": "[encoded data removed]",
      "text/plain": [
       "<Figure size 432x288 with 1 Axes>"
      ]
     },
     "metadata": {
      "needs_background": "light"
     },
     "output_type": "display_data"
    }
   ],
   "source": [
    "import matplotlib.pyplot as plt\n",
    "plt.plot(np.linspace(0,2,N),x[-N:])\n",
    "plt.title('force')"
   ]
  },
  {
   "cell_type": "code",
   "execution_count": 140,
   "metadata": {},
   "outputs": [
    {
     "data": {
      "text/plain": [
       "Text(0.5, 1.0, 'position')"
      ]
     },
     "execution_count": 140,
     "metadata": {},
     "output_type": "execute_result"
    },
    {
     "data": {
      "image/png": "[encoded data removed]",
      "text/plain": [
       "<Figure size 432x288 with 1 Axes>"
      ]
     },
     "metadata": {
      "needs_background": "light"
     },
     "output_type": "display_data"
    }
   ],
   "source": [
    "import matplotlib.pyplot as plt\n",
    "position = []\n",
    "for i in range(N):\n",
    "    position.append(x[i*4])\n",
    "plt.plot(np.linspace(0,2,N),position)\n",
    "plt.title('position')"
   ]
  },
  {
   "cell_type": "code",
   "execution_count": 141,
   "metadata": {},
   "outputs": [
    {
     "data": {
      "text/plain": [
       "Text(0.5, 1.0, 'angle')"
      ]
     },
     "execution_count": 141,
     "metadata": {},
     "output_type": "execute_result"
    },
    {
     "data": {
      "image/png": "[encoded data removed]",
      "text/plain": [
       "<Figure size 432x288 with 1 Axes>"
      ]
     },
     "metadata": {
      "needs_background": "light"
     },
     "output_type": "display_data"
    }
   ],
   "source": [
    "import matplotlib.pyplot as plt\n",
    "position = []\n",
    "for i in range(N):\n",
    "    position.append(x[i*4+1])\n",
    "plt.plot(np.linspace(0,2,N),position)\n",
    "plt.title('angle')"
   ]
  },
  {
   "cell_type": "code",
   "execution_count": null,
   "metadata": {},
   "outputs": [],
   "source": []
  }
 ],
 "metadata": {
  "kernelspec": {
   "display_name": "Python 3",
   "language": "python",
   "name": "python3"
  },
  "language_info": {
   "codemirror_mode": {
    "name": "ipython",
    "version": 3
   },
   "file_extension": ".py",
   "mimetype": "text/x-python",
   "name": "python",
   "nbconvert_exporter": "python",
   "pygments_lexer": "ipython3",
   "version": "3.7.3"
  }
 },
 "nbformat": 4,
 "nbformat_minor": 2
}
